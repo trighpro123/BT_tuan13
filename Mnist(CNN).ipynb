{
  "nbformat": 4,
  "nbformat_minor": 0,
  "metadata": {
    "colab": {
      "name": "Mnist(CNN).ipynb",
      "provenance": [],
      "collapsed_sections": [],
      "authorship_tag": "ABX9TyMgvO3tVsT9cXNuSOt9Mv51",
      "include_colab_link": true
    },
    "kernelspec": {
      "name": "python3",
      "display_name": "Python 3"
    },
    "language_info": {
      "name": "python"
    },
    "accelerator": "GPU"
  },
  "cells": [
    {
      "cell_type": "markdown",
      "metadata": {
        "id": "view-in-github",
        "colab_type": "text"
      },
      "source": [
        "<a href=\"https://colab.research.google.com/github/trighpro123/BT_tuan13/blob/main/Mnist(CNN).ipynb\" target=\"_parent\"><img src=\"https://colab.research.google.com/assets/colab-badge.svg\" alt=\"Open In Colab\"/></a>"
      ]
    },
    {
      "cell_type": "code",
      "execution_count": null,
      "metadata": {
        "colab": {
          "base_uri": "https://localhost:8080/"
        },
        "id": "Ne85AnKcDJ31",
        "outputId": "e0fae671-d5ec-4c39-91e0-169b4c994e77"
      },
      "outputs": [
        {
          "output_type": "stream",
          "name": "stdout",
          "text": [
            "Downloading data from https://storage.googleapis.com/tensorflow/tf-keras-datasets/mnist.npz\n",
            "11493376/11490434 [==============================] - 0s 0us/step\n",
            "11501568/11490434 [==============================] - 0s 0us/step\n",
            "(60000, 28, 28)\n",
            "(10000, 28, 28)\n"
          ]
        }
      ],
      "source": [
        "from keras.datasets import mnist\n",
        "import pandas as pd\n",
        "import matplotlib.pyplot as plt\n",
        "import numpy as np\n",
        "from keras.utils import np_utils\n",
        "\n",
        "#Load và phan chia dư liệu\n",
        "(x_train,y_train),(x_test,y_test)=mnist.load_data()\n",
        "print(np.shape(x_train))\n",
        "print(np.shape(x_test))\n",
        "\n",
        "# Xử lý dữ liệu thành 0-1\n",
        "# x_train=x_train.reshape(60000,784) \n",
        "# #  hàng nối tiếp hàng sao cho đủ 784 chứ ko phải 28 nữa. 784 tín hiệu vào\n",
        "# x_test=x_test.reshape(10000,784)\n",
        "x_train=x_train.astype('float32') # Ép kiểu\n",
        "x_test=x_test.astype('float32')\n",
        "x_train/=255 # Các pixel number có giá trị từ [0,255] về giới hạn 0-1\n",
        "x_test/=255\n",
        "y_train=np_utils.to_categorical(y_train,10)\n",
        "y_test=np_utils.to_categorical(y_test,10)\n",
        "\n"
      ]
    },
    {
      "cell_type": "code",
      "source": [
        "import tensorflow as tf\n",
        "from tensorflow.keras import datasets,layers,models\n",
        "from keras.models import Sequential\n",
        "from keras.layers import Dense,Activation,Conv2D,MaxPooling2D,Flatten\n",
        "from tensorflow.keras.optimizers import Adam, SGD, RMSprop\n",
        "from keras.callbacks import EarlyStopping\n",
        "import matplotlib.pyplot as plt\n",
        "import numpy as np\n",
        "import pandas as pd\n",
        "from keras.utils import np_utils\n",
        "\n",
        "# #Tạo mo hình\n",
        "\n",
        "model=Sequential()\n",
        "# BLock 1\n",
        "model.add(Conv2D(32,(3,3),activation='relu',kernel_initializer='he_uniform',padding='same',input_shape=(28,28,1))) # 32 phụ thuộc vào bội số byte\n",
        "model.add(Conv2D(32,(3,3),activation='relu',kernel_initializer='he_uniform',padding='same')) # padding same để kích thước trước giông skichs thước sau\n",
        "model.add(MaxPooling2D((2,2)))\n",
        "#Block 2\n",
        "model.add(Conv2D(64,(3,3),activation='relu',kernel_initializer='he_uniform',padding='same')) \n",
        "model.add(Conv2D(64,(3,3),activation='relu',kernel_initializer='he_uniform',padding='same'))\n",
        "model.add(MaxPooling2D((2,2)))\n",
        "#Block 3\n",
        "model.add(Conv2D(128,(3,3),activation='relu',kernel_initializer='he_uniform',padding='same')) \n",
        "model.add(Conv2D(128,(3,3),activation='relu',kernel_initializer='he_uniform',padding='same')) \n",
        "model.add(MaxPooling2D((2,2)))\n",
        "\n",
        "model.add(Flatten())\n",
        "model.add(Dense(512,activation='relu'))\n",
        "model.add(Dense(10,activation='softmax'))\n",
        "model.summary()\n",
        "\n",
        "# # Biên dịch\n",
        "model.compile(loss='categorical_crossentropy',optimizer=RMSprop(),metrics='accuracy')\n",
        "history=model.fit(x_train,y_train,batch_size=128,epochs=30,verbose=1,validation_data=(x_test,y_test))\n",
        "score=model.evaluate(x_test,y_test,verbose=0)\n",
        "y_pre=model.predict(x_test)\n"
      ],
      "metadata": {
        "colab": {
          "base_uri": "https://localhost:8080/"
        },
        "id": "K4QDTbTAD-RQ",
        "outputId": "f91f207d-9895-4f67-84e8-80fd78849f49"
      },
      "execution_count": null,
      "outputs": [
        {
          "output_type": "stream",
          "name": "stdout",
          "text": [
            "Model: \"sequential_2\"\n",
            "_________________________________________________________________\n",
            " Layer (type)                Output Shape              Param #   \n",
            "=================================================================\n",
            " conv2d_12 (Conv2D)          (None, 28, 28, 32)        320       \n",
            "                                                                 \n",
            " conv2d_13 (Conv2D)          (None, 28, 28, 32)        9248      \n",
            "                                                                 \n",
            " max_pooling2d_6 (MaxPooling  (None, 14, 14, 32)       0         \n",
            " 2D)                                                             \n",
            "                                                                 \n",
            " conv2d_14 (Conv2D)          (None, 14, 14, 64)        18496     \n",
            "                                                                 \n",
            " conv2d_15 (Conv2D)          (None, 14, 14, 64)        36928     \n",
            "                                                                 \n",
            " max_pooling2d_7 (MaxPooling  (None, 7, 7, 64)         0         \n",
            " 2D)                                                             \n",
            "                                                                 \n",
            " conv2d_16 (Conv2D)          (None, 7, 7, 128)         73856     \n",
            "                                                                 \n",
            " conv2d_17 (Conv2D)          (None, 7, 7, 128)         147584    \n",
            "                                                                 \n",
            " max_pooling2d_8 (MaxPooling  (None, 3, 3, 128)        0         \n",
            " 2D)                                                             \n",
            "                                                                 \n",
            " flatten_2 (Flatten)         (None, 1152)              0         \n",
            "                                                                 \n",
            " dense_4 (Dense)             (None, 512)               590336    \n",
            "                                                                 \n",
            " dense_5 (Dense)             (None, 10)                5130      \n",
            "                                                                 \n",
            "=================================================================\n",
            "Total params: 881,898\n",
            "Trainable params: 881,898\n",
            "Non-trainable params: 0\n",
            "_________________________________________________________________\n",
            "Epoch 1/30\n",
            "469/469 [==============================] - 15s 30ms/step - loss: 0.2065 - accuracy: 0.9383 - val_loss: 0.0722 - val_accuracy: 0.9798\n",
            "Epoch 2/30\n",
            "469/469 [==============================] - 14s 30ms/step - loss: 0.0414 - accuracy: 0.9872 - val_loss: 0.0357 - val_accuracy: 0.9884\n",
            "Epoch 3/30\n",
            "469/469 [==============================] - 14s 30ms/step - loss: 0.0292 - accuracy: 0.9914 - val_loss: 0.0425 - val_accuracy: 0.9866\n",
            "Epoch 4/30\n",
            "469/469 [==============================] - 14s 29ms/step - loss: 0.0227 - accuracy: 0.9934 - val_loss: 0.0499 - val_accuracy: 0.9851\n",
            "Epoch 5/30\n",
            "469/469 [==============================] - 14s 30ms/step - loss: 0.0195 - accuracy: 0.9944 - val_loss: 0.0269 - val_accuracy: 0.9932\n",
            "Epoch 6/30\n",
            "469/469 [==============================] - 14s 29ms/step - loss: 0.0169 - accuracy: 0.9955 - val_loss: 0.0342 - val_accuracy: 0.9919\n",
            "Epoch 7/30\n",
            "469/469 [==============================] - 14s 29ms/step - loss: 0.0151 - accuracy: 0.9956 - val_loss: 0.0290 - val_accuracy: 0.9924\n",
            "Epoch 8/30\n",
            "469/469 [==============================] - 14s 29ms/step - loss: 0.0140 - accuracy: 0.9962 - val_loss: 0.0306 - val_accuracy: 0.9920\n",
            "Epoch 9/30\n",
            "469/469 [==============================] - 14s 29ms/step - loss: 0.0138 - accuracy: 0.9963 - val_loss: 0.0250 - val_accuracy: 0.9943\n",
            "Epoch 10/30\n",
            "469/469 [==============================] - 14s 29ms/step - loss: 0.0130 - accuracy: 0.9966 - val_loss: 0.0369 - val_accuracy: 0.9930\n",
            "Epoch 11/30\n",
            "469/469 [==============================] - 14s 29ms/step - loss: 0.0130 - accuracy: 0.9966 - val_loss: 0.0413 - val_accuracy: 0.9918\n",
            "Epoch 12/30\n",
            "469/469 [==============================] - 14s 29ms/step - loss: 0.0118 - accuracy: 0.9971 - val_loss: 0.0493 - val_accuracy: 0.9925\n",
            "Epoch 13/30\n",
            "469/469 [==============================] - 14s 30ms/step - loss: 0.0122 - accuracy: 0.9972 - val_loss: 0.0393 - val_accuracy: 0.9922\n",
            "Epoch 14/30\n",
            "469/469 [==============================] - 14s 29ms/step - loss: 0.0106 - accuracy: 0.9977 - val_loss: 0.1016 - val_accuracy: 0.9899\n",
            "Epoch 15/30\n",
            "469/469 [==============================] - 14s 29ms/step - loss: 0.0115 - accuracy: 0.9976 - val_loss: 0.0275 - val_accuracy: 0.9937\n",
            "Epoch 16/30\n",
            "469/469 [==============================] - 14s 29ms/step - loss: 0.0114 - accuracy: 0.9978 - val_loss: 0.1048 - val_accuracy: 0.9904\n",
            "Epoch 17/30\n",
            "469/469 [==============================] - 14s 30ms/step - loss: 0.0127 - accuracy: 0.9977 - val_loss: 0.0330 - val_accuracy: 0.9944\n",
            "Epoch 18/30\n",
            "469/469 [==============================] - 14s 30ms/step - loss: 0.0120 - accuracy: 0.9975 - val_loss: 0.0678 - val_accuracy: 0.9936\n",
            "Epoch 19/30\n",
            "469/469 [==============================] - 14s 30ms/step - loss: 0.0114 - accuracy: 0.9979 - val_loss: 0.0602 - val_accuracy: 0.9923\n",
            "Epoch 20/30\n",
            "469/469 [==============================] - 14s 29ms/step - loss: 0.0100 - accuracy: 0.9980 - val_loss: 0.0753 - val_accuracy: 0.9930\n",
            "Epoch 21/30\n",
            "469/469 [==============================] - 14s 29ms/step - loss: 0.0120 - accuracy: 0.9977 - val_loss: 0.0446 - val_accuracy: 0.9931\n",
            "Epoch 22/30\n",
            "469/469 [==============================] - 14s 29ms/step - loss: 0.0132 - accuracy: 0.9978 - val_loss: 0.0541 - val_accuracy: 0.9936\n",
            "Epoch 23/30\n",
            "469/469 [==============================] - 14s 30ms/step - loss: 0.0109 - accuracy: 0.9983 - val_loss: 0.0851 - val_accuracy: 0.9913\n",
            "Epoch 24/30\n",
            "469/469 [==============================] - 14s 29ms/step - loss: 0.0093 - accuracy: 0.9981 - val_loss: 0.0631 - val_accuracy: 0.9915\n",
            "Epoch 25/30\n",
            "469/469 [==============================] - 14s 30ms/step - loss: 0.0087 - accuracy: 0.9984 - val_loss: 0.0762 - val_accuracy: 0.9929\n",
            "Epoch 26/30\n",
            "469/469 [==============================] - 14s 29ms/step - loss: 0.0106 - accuracy: 0.9986 - val_loss: 0.1028 - val_accuracy: 0.9935\n",
            "Epoch 27/30\n",
            "469/469 [==============================] - 14s 30ms/step - loss: 0.0126 - accuracy: 0.9983 - val_loss: 0.0768 - val_accuracy: 0.9936\n",
            "Epoch 28/30\n",
            "469/469 [==============================] - 14s 29ms/step - loss: 0.0103 - accuracy: 0.9984 - val_loss: 0.0851 - val_accuracy: 0.9924\n",
            "Epoch 29/30\n",
            "469/469 [==============================] - 14s 29ms/step - loss: 0.0095 - accuracy: 0.9986 - val_loss: 0.0699 - val_accuracy: 0.9933\n",
            "Epoch 30/30\n",
            "469/469 [==============================] - 14s 30ms/step - loss: 0.0128 - accuracy: 0.9984 - val_loss: 0.0425 - val_accuracy: 0.9941\n"
          ]
        }
      ]
    },
    {
      "cell_type": "code",
      "source": [
        "\n",
        "\n",
        "# # Vẽ đồ thị bằng plt\n",
        "pd.DataFrame(history.history).plot(figsize=(8,5))\n",
        "plt.grid(True)\n",
        "plt.gca().set_ylim(0,1)\n",
        "plt.show()\n",
        "\n",
        "plt.plot(history.history['accuracy'])\n",
        "plt.plot(history.history['val_accuracy'])\n",
        "plt.title('model accuracy')\n",
        "plt.ylabel('accuracy')\n",
        "plt.xlabel('epoch')\n",
        "plt.legend(['train','validation'],loc='upperleft')\n",
        "plt.show()"
      ],
      "metadata": {
        "colab": {
          "base_uri": "https://localhost:8080/",
          "height": 865
        },
        "id": "ob7rZCSQECLk",
        "outputId": "54ecacf6-27a1-4783-ddaf-9a72d6931f7e"
      },
      "execution_count": null,
      "outputs": [
        {
          "output_type": "display_data",
          "data": {
            "text/plain": [
              "<Figure size 576x360 with 1 Axes>"
            ],
            "image/png": "[encoded data removed]"
          },
          "metadata": {
            "needs_background": "light"
          }
        },
        {
          "output_type": "stream",
          "name": "stderr",
          "text": [
            "/usr/local/lib/python3.7/dist-packages/ipykernel_launcher.py:14: MatplotlibDeprecationWarning: Unrecognized location 'upperleft'. Falling back on 'best'; valid locations are\n",
            "\tbest\n",
            "\tupper right\n",
            "\tupper left\n",
            "\tlower left\n",
            "\tlower right\n",
            "\tright\n",
            "\tcenter left\n",
            "\tcenter right\n",
            "\tlower center\n",
            "\tupper center\n",
            "\tcenter\n",
            "This will raise an exception in 3.3.\n",
            "  \n"
          ]
        },
        {
          "output_type": "display_data",
          "data": {
            "text/plain": [
              "<Figure size 432x288 with 1 Axes>"
            ],
            "image/png": "[encoded data removed]"
          },
          "metadata": {
            "needs_background": "light"
          }
        }
      ]
    },
    {
      "cell_type": "code",
      "source": [
        "model.save_weights(\"mnist_CNN_weights.h5\")"
      ],
      "metadata": {
        "id": "sC2jQ6AoOoP6"
      },
      "execution_count": null,
      "outputs": []
    }
  ]
}